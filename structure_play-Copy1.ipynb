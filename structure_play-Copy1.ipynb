{
 "cells": [
  {
   "cell_type": "code",
   "execution_count": 57,
   "id": "e00ab63c-e1cd-4f23-ad54-152c2543ccee",
   "metadata": {},
   "outputs": [],
   "source": [
    "import openai\n",
    "import os\n",
    "import pandas\n",
    "import json\n",
    "import ast\n",
    "# Replace this with your OpenAI API key\n",
    "openai.api_key = os.getenv(\"OPENAI_API_KEY\") "
   ]
  },
  {
   "cell_type": "code",
   "execution_count": 63,
   "id": "411c10ed-2dc1-4856-a926-99f8dd7abe60",
   "metadata": {},
   "outputs": [],
   "source": [
    "def tag_text_with_llm(play_text):\n",
    "    prompt = f'''\n",
    "    You are a tagging assistant for a play script. Given the text, identify:\n",
    "    - **Speaker** (character speaking)\n",
    "    - **Stage Directions** (actions, scene instructions)\n",
    "    - **Utterance** (dialogue lines)\n",
    "\n",
    "    Please format output as a list of tuples ('speaker', 'instruction', 'utterance'), for empty strings use the list\n",
    "    delimiter [] and use triple quotes around strings.\n",
    "\n",
    "    Here’s an example:\n",
    "\n",
    "    ---\n",
    "    Text:\n",
    "    Kerbenne (idet han hidsig kaster Brevet fra sig.) Ak, det havde jeg ikke ventet mig...\n",
    "    Hortense (nærmer sig sin Fader.) Min kjære Fader, hvad er der i Veien?\n",
    "    ---\n",
    "    Output - note use of triple quotes (they can be single quotes or double):\n",
    "    [\n",
    "        (\"\"\"Kerbenne\"\"\", \"\"\"idet han hidsig kaster Brevet fra sig.\"\"\", \"\"\"Ak, det havde jeg ikke ventet mig...\"\"\"),\n",
    "        (\"\"\"Hortense\", \"nærmer sig sin Fader.\", \"Min kjære Fader, hvad er der i Veien?\"\"\"),\n",
    "        ...\n",
    "    ]\n",
    "\n",
    "    Do not add any text like \"Here is the output\", \"python\", or any other explanations or keywords or quotes, just the plain list of tuples\n",
    "    \n",
    "    Now process the following text:\n",
    "    \n",
    "    {play_text}\n",
    "    '''\n",
    "    \n",
    "    response = openai.chat.completions.create(\n",
    "        model=\"gpt-4o-2024-08-06\",  \n",
    "        max_tokens=16000,\n",
    "        messages=[\n",
    "            {\n",
    "                \"role\": \"user\",\n",
    "                \"content\": prompt,\n",
    "            },\n",
    "        ],\n",
    "    )\n",
    "    \n",
    "    return response"
   ]
  },
  {
   "cell_type": "code",
   "execution_count": 11,
   "id": "7b57e895-619e-4af6-a7df-4fa717bcc30a",
   "metadata": {},
   "outputs": [],
   "source": [
    "# Example usage:\n",
    "with open(\"plays/stage_1587758.txt\") as fp:\n",
    "    play_text = fp.read()\n",
    "    "
   ]
  },
  {
   "cell_type": "code",
   "execution_count": 64,
   "id": "c95d9bc3-baf4-4225-b7f6-0b52f68838a8",
   "metadata": {},
   "outputs": [],
   "source": [
    "# Call the function to process\n",
    "tagged_text = tag_text_with_llm(play_text)"
   ]
  },
  {
   "cell_type": "code",
   "execution_count": 33,
   "id": "191892db-d765-41be-9a35-bec40cd404f3",
   "metadata": {},
   "outputs": [],
   "source": [
    "import re"
   ]
  },
  {
   "cell_type": "code",
   "execution_count": 65,
   "id": "dcf01105-afd3-4884-9c5a-a41b9de9da5c",
   "metadata": {},
   "outputs": [],
   "source": [
    "output = tagged_text.choices[0].message.content"
   ]
  },
  {
   "cell_type": "code",
   "execution_count": 67,
   "id": "692ae6b5-33ad-4568-9087-1bc3383500d9",
   "metadata": {},
   "outputs": [
    {
     "data": {
      "text/plain": [
       "'```python\\n[\\n    (\"\"\"Kerbenne\"\"\", \"\"\"idet han hidsig kaster Brevet fra sig.\"\"\", \"\"\"Ak, det havde jeg ikke ventet mig\"\"\"),\\n    (\"\"\"Kerbenne\"\"\", [] , \"\"\"nei, det havde jeg ikke\"\"\"),\\n    (\"\"\"Hortense\"\"\", \"\"\"nærmer sig til sin Fader.\"\"\", \"\"\"Min kjære Fader, hvad er der i Veien\"\"\"),\\n    (\"\"\"Kerbenne\"\"\", [] , \"\"\"Denne Proces med min Svoger d\\'Ancenis, denne Proces angaaende vort Opgjør, som har været i 10 Aar.\"\"\"),\\n    (\"\"\"Hortense\"\"\", \"\"\"smilende:\"\"\", \"\"\"ligesom den troganske Krig\"\"\"),\\n    (\"\"\"Kerbenne\"\"\", [] , \"\"\"Denne Proces, som jeg vandt ved første Instants\"\"\"),\\n    (\"\"\"Hortense\"\"\", [] , \"\"\"Nu vel.\"\"\"),\\n    (\"\"\"Kerbenne\"\"\", [] , \"\"\"Nu vel! Ja, nu har jeg tabt den i Paris ved Overretten.\"\"\"),\\n    (\"\"\"Kerbenne\"\"\", \"\"\"gaar over paa den venstre Side.\"\"\", \"\"\"Men du fatter vel at jeg ikke lader det bero hermed.\"\"\"),\\n    (\"\"\"Kerbenne\"\"\", [] , \"\"\"Jeg er en Bretagner og jeg giver mig ikke. Denne Aften skriver jeg til en ny Advokat\"\"\"),\\n    (\"\"\"Hortense\"\"\", [] , \"\"\"Endnu en. Det bliver den syvende\"\"\"),\\n    (\"\"\"Kerbenne\"\"\", [] , \"\"\"En Advokat ved Kassationsretten som skal besørge Sagens videre Paaanke.\"\"\"),\\n    (\"\"\"Hortense\"\"\", [] , \"\"\"Fader bønfaldende\"\"\"),\\n    (\"\"\"Kerbenne\"\"\", [] , \"\"\"Ja om den saa kom til at være til\"\"\"),\\n    (\"\"\"Kerbenne\"\"\", \"\"\"Aar endnu. Igaar igjen over tilhøire\"\"\", \"\"\"Og hvis jeg skulde dø, inden den slutter, saa skal Du arve den. Jeg haaber, Du ikke giver Seip paa den Arv, men at ogsaa Du hele dit Liv vil værne om vore Rettigheder:\"\"\"),\\n    (\"\"\"Hortense\"\"\", \"\"\"staaende, børende sig mod sin Fader.\"\"\", \"\"\"Ja, Fader, det vil jeg, men gjør mig en Tjeneste og hør ogsaa for en Gangs Skyld mit Indlæg i Sagen\"\"\"),\\n    (\"\"\"Kerbenne\"\"\", [] , \"\"\"Et Indlæg\"\"\"),\\n    (\"\"\"Hortense\"\"\", [] , \"\"\"Jeg skal være din ottende Advokat.\"\"\"),\\n    (\"\"\"Hortense\"\"\", [] , \"\"\"Men han skal ikke koste Dig Noget, han gjør kun Fordring paa Lykke og Hvor stor var oprinSindsro for Dig.\"\"\"),\\n    (\"\"\"Hortense\"\"\", [] , \"\"\"delig den Sum, hvorom Talen var\"\"\"),\\n    (\"\"\"Kerbenne\"\"\", [] , \"\"\"50,000 Francs. med Varme. Min Svoger og jeg vare Kompagnoner; men da min Søster, den stakkels Tante, døde, maatte vi skride til Opgjør bringe Rede i Regnskaberne, og efter vore Bøger stod jeg i et Forskud af 50,000 Francs. - Tænk Dig.\"\"\"),\\n    (\"\"\"Hortense\"\"\", [] , \"\"\"Jeg procederer ikke fra Grunden af, Fader; jeg gjør som Dommeren i første Instants, jeg lader Dig vinde Sagen.\"\"\"),\\n    (\"\"\"Hortense\"\"\", [] , \"\"\"Det er altsaa disse 50,000 Francs hvorom Processen i Begyndelsen dreiede sig.\"\"\"),\\n    (\"\"\"Kerbenne\"\"\", [] , \"\"\"Ja, men denne første Proces har draget. et Dusin andre efter sig\"\"\"),\\n    (\"\"\"Hortense\"\"\", [] , \"\"\"Nu vel! Hvor store Udgifter har Du nu i det Hele taget havt. Alt iberegnet.\"\"\"),\\n    (\"\"\"Kerbenne\"\"\", \"\"\"med Lune:\"\"\", \"\"\"Hvad ved jeg det 30,000 Francs. Sæt 100, 120 om Du vil\"\"\"),\\n    (\"\"\"Hortense\"\"\", [] , \"\"\"Hvad gjør det. Du er rig, meget rig Du har ofte sagt mig; man anfører altid Hr. Kerbenne som en af de første Fabrikherrer og Godseier i Bretagne.\"\"\"),\\n    (\"\"\"Hortense\"\"\", [] , \"\"\"Og desuden, Du har kun en eneste Datter, en udmærket Datter, som elsker Dig, som er omhyggelig for Dig, som altid er af samme Mening som Du\"\"\"),\\n    (\"\"\"Hortense\"\"\", [] , \"\"\"og aldrig skjænder paa Dig; og dog, skjøndt Du har saa megen Grund til at være lykkelig, er Du det ikke\"\"\"),\\n    (\"\"\"Kerbenne\"\"\", [] , \"\"\"Det er sandt\"\"\"),\\n    (\"\"\"Hortense\"\"\", [] , \"\"\"Opfør i dine Regnskabsbøger Alt hvad disse 10 Aar har kostet Dig. Sorger, Bekymringer, Ængstelser, feilslagne Forhaabninger, - alle de Aftener, Du har talt med mig om denne Proces.\"\"\"),\\n    (\"\"\"Kervenner.\"\"\", [] , \"\"\"Ja, i 10 Aar har jeg vundet den hver eneste Aften.\"\"\"),\\n    (\"\"\"Hortense\"\"\", [] , \"\"\"Læg Utaalmodigheden til, det slette Humør, som altid staar i Veien for Fortroligheden. Hadet, som udtørrer\"\"\"),\\n    (\"\"\"Hortense\"\"\", [] , \"\"\"Hjertet, Vreden, som jager Blodet til Hovedet; og beregn saa, Du som forstaar at gjøre overslag, alle de Pinsler, hver Dag bringer med sig og sig mig nu om 50,000 Francs Vinding nogensinde kan erstatte alt dette\"\"\"),\\n    (\"\"\"Kerbenna\"\"\", [] , \"\"\"Det er muligt. ( reiser sig. Men jeg kan ikke give mig, thi jeg har Ret.\"\"\"),\\n    (\"\"\"Kerbenne\"\"\", \"\"\"gaar over tilvenstre\"\"\", \"\"\"Alle, som procederer, siger det Samme.\"\"\"),\\n    (\"\"\"Hortense\"\"\", [] , \"\"\"Jeg kan ikke lampe\"\"\"),\\n    (\"\"\"Kerbenne\"\"\", [] , \"\"\"En herlig Triumph.\"\"\"),\\n    (\"\"\"Hortense\"\"\", [] , \"\"\"For det Første koster det ham sandsynligvis lige saa meget som Dig, og han er ikke rig. Man siger, han har lidt store Tab.\"\"\"),\\n    (\"\"\"Kerbenne\"\"\", \"\"\"heftig.\"\"\", \"\"\"Det er hans egen Skyld, hvorfor procederer han istedetfor at passe sine Forretninger. Dersom han var kommen til mig, dersom han havde sagt: \"jeg har Uret, saa vilde jeg have afstaaet ham disse 50,000 Francs og 2-3 Gange saa meget, om det skulde været.\"\"\"),\\n    (\"\"\"Hortense\"\"\", [] , \"\"\"Ak, det er Ret; nu kjender jeg Dig igjen! Men hvorledes kan han tilstaa at han har Uret, naar han ligesom Du tror, han har Ret, naar han ligesom Du tror, at hans Ære er med i Spillet.\"\"\"),\\n    (\"\"\"Kerbenne\"\"\", [] , \"\"\"Hans Ære! Sig hellere hans Halsstarrighed, hans Egensindighed; thi han er egensindig.\"\"\"),\\n    (\"\"\"Hortense\"\"\", [] , \"\"\"Han er Bretagner ligesom Du\"\"\"),\\n    (\"\"\"Kerbenne\"\"\", [] , \"\"\"Dobbelt saameget. Kan Du erindre ham?\"\"\"),\\n    (\"\"\"Hortense\"\"\", [] , \"\"\"Ja jeg erindrer at han var en meget elskværdig og meget lydig Onkel, han gjorde Alt, hvad jeg vilde; gav mig hver Dag nydelige Dukker, som hans Søn, min Fætter Edvard i et Væk slog istykker\"\"\"),\\n    (\"\"\"Kerbenne\"\"\", [] , \"\"\"Han, med hvem Du altid laa i Strid\"\"\"),\\n    (\"\"\"Hortense\"\"\", [] , \"\"\"Det forhindrede os dog ikke i at holde af hinanden. Men Du har opdraget mig til at betragte dem som ligegyldige Personer, som Fremmede, Fiender\"\"\"),\\n    (\"\"\"Kerbenne\"\"\", \"\"\"heftig.\"\"\", \"\"\"Og det har jeg gjort Ret i Men Du taler, som om Du kjendte dem endnu, og Du har dog ikke seet dem siden Du var Barn.\"\"\"),\\n    (\"\"\"Hortense\"\"\", [] , \"\"\"Maaske dog\"\"\"),\\n    (\"\"\"Kerbenne\"\"\", \"\"\"Panden: Hvad vil det rynkende sige.\"\"\", \"\"\"Paa Ballet i Præfestens Hotel i Brest for 2 Maaneder siden sad jeg ved Siden af Frøken de Kerkardo, en af Stedets Skjønheder, en Veninde af mig, som\"\"\"),\\n    (\"\"\"Hortense\"\"\", [] , \"\"\"havde taget mig med, og som var den Eneste, der kjendte mig der. Vi lagde Mærke til en Herre, der stod blandt en Del andre, og som afvexlende kastede sine Blikke paa hende og mig. Det var klart, at han tænkte paa, at gjøre et Valg mellem os\"\"\"),\\n    (\"\"\"Kerbenne\"\"\", [] , \"\"\"Det vakte Jers Nysgjerrighed\"\"\"),\\n    (\"\"\"Hortense\"\"\", \"\"\"smilende.\"\"\", \"\"\"Ja ganske vist. Nu da, han kom til mig\"\"\"),\\n    (\"\"\"Kerbenne\"\"\", [] , \"\"\"Det smigrede din Forfængelighed\"\"\"),\\n    (\"\"\"Hortense\"\"\", [] , \"\"\"Jeg nægter det ikke. Min Kavaler var meget munter, meget underholdende var original, aandrig og valsede meget\"\"\"),\\n    (\"\"\"Hortense\"\"\", [] , \"\"\"godt. Kort sagt, det var en udmærket Kavaler. Da jeg kom tilbage til min Plads, spurgte jeg min Veninde, hvad han hed. Edvard Ancenis! Til min store Overraskelse var min dansepartner faktisk min fætter, som jeg var blevet vant til at afsky i ti år, og jeg skyndte\"\"\"),\\n    (\"\"\"Hortense\"\"\", [] , \"\"\"mig at sætte mig ind i vanen igen og bad Frøken de Kerkardo om ikke at nævne mit navn. Da han igen inviterede mig til dans, tænkte jeg på dig, far, og svarede køligt at jeg ikke ville danse resten af aftenen, hvad jeg også holdt ord på.\"\"\"),\\n    (\"\"\"Kerbenne\"\"\", [] , \"\"\"Det var godt gjort\"\"\"),\\n    (\"\"\"Hortense\"\"\", \"\"\"smilende, betragtende sin Fader,\"\"\", \"\"\"Hvad for noget? Hvem kunne falde på en sådan tanke.\"\"\"),\\n    (\"\"\"Kerbenne\"\"\", \"\"\"vred.\"\"\", \"\"\"Jeg ikke, det forsikrer jeg Dig\"\"\"),\\n    (\"\"\"Hortense\"\"\", \"\"\"faasiet.\"\"\", \"\"\"Jeg heller ikke. Nu vel der har du endnu en grund til at sige til din nevø. Vi har i lang tid levet som Capulet og Montague og afskyet hinanden.\"\"\"),\\n    (\"\"\"Hortense\"\"\", [] , \"\"\"Lad os nu ophøre med vore fjendtligheder og lad dem ikke gå i arv til vore børn. I min søsters, deres moders navn, lad det være en ende på had og processer. Tag de 50,000 francs. Jem, det er dig, som siger dette, far -\"\"\"),\\n    (\"\"\"Hortense\"\"\", [] , \"\"\"og giv os for denne pris venner. Her har du den overenskomst, jeg ville foreslå.\"\"\"),\\n    (\"\"\"Kerbenne\"\"\", [] , \"\"\"Ak, det er sådan du dømmer\"\"\"),\\n    (\"\"\"Hortense\"\"\", [] , \"\"\"I sidste instans\"\"\"),\\n    (\"\"\"Kerbenne\"\"\", [] , \"\"\"Det er godt; Jeg vil fra min side undersøge, om jeg skal stadfæste eller underkende denne dom.\"\"\"),\\n    (\"\"\"Kerbenne\"\"\", \"\"\"sætter sig\"\"\", \"\"\"Du er så taus, fader, din stemme bliver så mørk, og du ser ud af vinduet til højre - og himlen også!\"\"\"),\\n    (\"\"\"Hortense\"\"\", [] , \"\"\"Det er et uvær, der trækker op\"\"\"),\\n    (\"\"\"Kerbenne\"\"\", [] , \"\"\"ser ud. Det er allerede brudt løs.\"\"\"),\\n    (\"\"\"Hortense\"\"\", [] , \"\"\"Så meget desto værre. Jeg er overtroisk, og dette er et slemt varsel.\"\"\"),\\n    (\"\"\"De Forrige\"\"\", [] , []),\\n    (\"\"\"Joceline\"\"\", \"\"\"træder ind fra Baggrunden og raaber forskrækket ud igennem Kulisserne; Luk Vinduerne!\"\"\", \"\"\"Saa luk Vinduerne siger jeg.\"\"\"),\\n    (\"\"\"Kerbenne\"\"\", [] , \"\"\"Gud bevares, Joceline, hvilken Spektakkel.\"\"\"),\\n    (\"\"\"Joceline\"\"\", [] , \"\"\"En forfærdelig regn, som allerede styrter ned i strømme, og en vind som truer med at knuse alle ruderne i fabrikken.\"\"\"),\\n    (\"\"\"Hortense\"\"\", \"\"\"ser ud igennem Vinduet tilhøire.\"\"\", \"\"\"Og dernede ved enden af den store allé kommer en vogn mod vind og strøm. Det er vor nabo, de Pampoes.\"\"\"),\\n    (\"\"\"Kerbenne\"\"\", [] , \"\"\"Er du vis paa det.\"\"\"),\\n    (\"\"\"Hortense\"\"\", \"\"\"fortrædelig!\"\"\", \"\"\"Ja, jeg genkender den.\"\"\"),\\n    (\"\"\"Kerbenne\"\"\", [] , \"\"\"Men jeg genkender ikke hans sædvanlige klogskab i dette. At begive sig på vejen i sådan et vejr,\"\"\"),\\n    (\"\"\"Hortense\"\"\", \"\"\"som før.\"\"\", \"\"\"Du får modtage hans visit, thi jeg er endnu i mit morgentoilet.\"\"\"),\\n    (\"\"\"Kerbenne\"\"\", [] , \"\"\"Nej paa ingen maade. Jeg skal skrive til Paris, i anledning af min appel.\"\"\"),\\n    (\"\"\"Hortense\"\"\", \"\"\"som før.\"\"\", \"\"\"Din appel\"\"\"),\\n    (\"\"\"Kerbenne\"\"\", [] , \"\"\"Det tager tid. Dit toilet derimod\"\"\"),\\n    (\"\"\"Hortense\"\"\", \"\"\"som før.\"\"\", \"\"\"Det vil blive meget langvarigt.\"\"\"),\\n    (\"\"\"Kerbenne\"\"\", [] , \"\"\"Saa faar Joceline bede Hr. Pampe vente nogle Øieblikke\"\"\"),\\n    (\"\"\"Joceline\"\"\", \"\"\"Man hører en Klokke tilvenstre\"\"\", \"\"\"Det ringer paa Porten\"\"\"),\\n    (\"\"\"Hortense\"\"\", \"\"\"som før.\"\"\", \"\"\"Det lader til at vi faar\"\"\"),\\n    (\"\"\"Hortense\"\"\", [] , \"\"\"Visitter idag\"\"\"),\\n    (\"\"\"Joceline\"\"\", \"\"\"ser ud af Vinduet tilvenstre.\"\"\", \"\"\"Der kommer en Fremmed, sikkert mod sin Villie, det er et ungt Menneske tilfødssom er aldeles gennemvaad, og søger et ly.\"\"\"),\\n    (\"\"\"Kerbenne\"\"\", [] , \"\"\"Lukker de ham ind? Det er godt\"\"\"),\\n    (\"\"\"Hortense\"\"\", \"\"\"ironisk.\"\"\", \"\"\"Gæstfrihedens pligter paaligger dig, fader. Jeg flygter.\"\"\"),\\n    (\"\"\"Kerbenne\"\"\", \"\"\"Hun går ud igennem den første Dør tilhøire.\"\"\", \"\"\"Saa har du dog! Fanden ivold med alle toiletter til Jocelme!\"\"\"),\\n    (\"\"\"Kerbenne\"\"\", [] , \"\"\"Før denne Herre ind Lad ham varme sig, tørre sig, og dersom han er sulten eller tørstig.\"\"\"),\\n    (\"\"\"Joceline\"\"\", [] , \"\"\"Ja Herre, som sædvanligt. Man siger her i egnen, at dette er et velsignet hus.\"\"\"),\\n    (\"\"\"Kerbenne\"\"\", \"\"\"vred.\"\"\", \"\"\"Nei! thi jeg er saavel brim.\"\"\"),\\n    (\"\"\"Joceline\"\"\", [] , \"\"\"På hvem, Herre\"\"\"),\\n    (\"\"\"Kerbenne\"\"\", [] , \"\"\"Paa dig, paa mig, paa hele verden. Visitterne, forretningerne; - jeg gav dem gerne døden og djævelen. Det er nok, jeg går ind i mit værelse.\"\"\"),\\n    (\"\"\"Joceline\"\"\", \"\"\"Går ud i baggrunden til høre.\"\"\", []),\\n    (\"\"\"i Scene\"\"\", [] , [])\\n]\\n```'"
      ]
     },
     "execution_count": 67,
     "metadata": {},
     "output_type": "execute_result"
    }
   ],
   "source": [
    "output"
   ]
  },
  {
   "cell_type": "code",
   "execution_count": 74,
   "id": "6c0c0778-b1c6-4082-ae1e-9e1b8629b34e",
   "metadata": {},
   "outputs": [
    {
     "data": {
      "text/plain": [
       "\"ol og et Sybord, hvorpaa en Broder. \\nramme. Lænestole. Stole \\n1ste Scene. \\nKertenne \\nHortense. \\nI det Teppet gaar op sidder Korbenne \\nved Skrivebordet tilhøire, han holder \\net Brev, som han netop har læst, i \\nHaanden. Hortense kommer ind fra \\nBaggrunden.) \\n\\nKerberne. \\nidet han hidsig kaster Brevet fra sig.) \\nAk, det havde jeg ikke ventet mig \\nnei, det havde jeg ikke \\nHortense \\nnærmer sig til sin Fader.) Min kjære \\nFader, hvad er der i Veien \\nKerberne. \\nDenne Proces med min Svoger d'Ancenis, \\nden\""
      ]
     },
     "execution_count": 74,
     "metadata": {},
     "output_type": "execute_result"
    }
   ],
   "source": [
    "play_text[500:1000]"
   ]
  },
  {
   "cell_type": "code",
   "execution_count": 76,
   "id": "121bd8fb-ef6a-471c-a8d6-9d4006da1f0b",
   "metadata": {},
   "outputs": [],
   "source": [
    "import pandas as pd"
   ]
  },
  {
   "cell_type": "code",
   "execution_count": 78,
   "id": "b6e4034b-02bb-4ab9-93e9-39c6cd179ec2",
   "metadata": {},
   "outputs": [],
   "source": [
    "df = pd.DataFrame(ast.literal_eval(output.replace(\"```\",\"\").replace(\"python\",\"\")), columns=[\"Taler\", \"Scene\", \"Ytring\"])"
   ]
  },
  {
   "cell_type": "code",
   "execution_count": 82,
   "id": "fa695c91-cbc3-43ca-881f-dcb965f0ef33",
   "metadata": {},
   "outputs": [
    {
     "data": {
      "text/html": [
       "<div>\n",
       "<style scoped>\n",
       "    .dataframe tbody tr th:only-of-type {\n",
       "        vertical-align: middle;\n",
       "    }\n",
       "\n",
       "    .dataframe tbody tr th {\n",
       "        vertical-align: top;\n",
       "    }\n",
       "\n",
       "    .dataframe thead th {\n",
       "        text-align: right;\n",
       "    }\n",
       "</style>\n",
       "<table border=\"1\" class=\"dataframe\">\n",
       "  <thead>\n",
       "    <tr style=\"text-align: right;\">\n",
       "      <th></th>\n",
       "      <th>Taler</th>\n",
       "      <th>Scene</th>\n",
       "      <th>Ytring</th>\n",
       "    </tr>\n",
       "  </thead>\n",
       "  <tbody>\n",
       "    <tr>\n",
       "      <th>0</th>\n",
       "      <td>Kerbenne</td>\n",
       "      <td>idet han hidsig kaster Brevet fra sig.</td>\n",
       "      <td>Ak, det havde jeg ikke ventet mig</td>\n",
       "    </tr>\n",
       "    <tr>\n",
       "      <th>1</th>\n",
       "      <td>Kerbenne</td>\n",
       "      <td>[]</td>\n",
       "      <td>nei, det havde jeg ikke</td>\n",
       "    </tr>\n",
       "    <tr>\n",
       "      <th>2</th>\n",
       "      <td>Hortense</td>\n",
       "      <td>nærmer sig til sin Fader.</td>\n",
       "      <td>Min kjære Fader, hvad er der i Veien</td>\n",
       "    </tr>\n",
       "    <tr>\n",
       "      <th>3</th>\n",
       "      <td>Kerbenne</td>\n",
       "      <td>[]</td>\n",
       "      <td>Denne Proces med min Svoger d'Ancenis, denne P...</td>\n",
       "    </tr>\n",
       "    <tr>\n",
       "      <th>4</th>\n",
       "      <td>Hortense</td>\n",
       "      <td>smilende:</td>\n",
       "      <td>ligesom den troganske Krig</td>\n",
       "    </tr>\n",
       "    <tr>\n",
       "      <th>...</th>\n",
       "      <td>...</td>\n",
       "      <td>...</td>\n",
       "      <td>...</td>\n",
       "    </tr>\n",
       "    <tr>\n",
       "      <th>93</th>\n",
       "      <td>Kerbenne</td>\n",
       "      <td>vred.</td>\n",
       "      <td>Nei! thi jeg er saavel brim.</td>\n",
       "    </tr>\n",
       "    <tr>\n",
       "      <th>94</th>\n",
       "      <td>Joceline</td>\n",
       "      <td>[]</td>\n",
       "      <td>På hvem, Herre</td>\n",
       "    </tr>\n",
       "    <tr>\n",
       "      <th>95</th>\n",
       "      <td>Kerbenne</td>\n",
       "      <td>[]</td>\n",
       "      <td>Paa dig, paa mig, paa hele verden. Visitterne,...</td>\n",
       "    </tr>\n",
       "    <tr>\n",
       "      <th>96</th>\n",
       "      <td>Joceline</td>\n",
       "      <td>Går ud i baggrunden til høre.</td>\n",
       "      <td>[]</td>\n",
       "    </tr>\n",
       "    <tr>\n",
       "      <th>97</th>\n",
       "      <td>i Scene</td>\n",
       "      <td>[]</td>\n",
       "      <td>[]</td>\n",
       "    </tr>\n",
       "  </tbody>\n",
       "</table>\n",
       "<p>98 rows × 3 columns</p>\n",
       "</div>"
      ],
      "text/plain": [
       "       Taler                                   Scene  \\\n",
       "0   Kerbenne  idet han hidsig kaster Brevet fra sig.   \n",
       "1   Kerbenne                                      []   \n",
       "2   Hortense               nærmer sig til sin Fader.   \n",
       "3   Kerbenne                                      []   \n",
       "4   Hortense                               smilende:   \n",
       "..       ...                                     ...   \n",
       "93  Kerbenne                                   vred.   \n",
       "94  Joceline                                      []   \n",
       "95  Kerbenne                                      []   \n",
       "96  Joceline           Går ud i baggrunden til høre.   \n",
       "97   i Scene                                      []   \n",
       "\n",
       "                                               Ytring  \n",
       "0                   Ak, det havde jeg ikke ventet mig  \n",
       "1                             nei, det havde jeg ikke  \n",
       "2                Min kjære Fader, hvad er der i Veien  \n",
       "3   Denne Proces med min Svoger d'Ancenis, denne P...  \n",
       "4                          ligesom den troganske Krig  \n",
       "..                                                ...  \n",
       "93                       Nei! thi jeg er saavel brim.  \n",
       "94                                     På hvem, Herre  \n",
       "95  Paa dig, paa mig, paa hele verden. Visitterne,...  \n",
       "96                                                 []  \n",
       "97                                                 []  \n",
       "\n",
       "[98 rows x 3 columns]"
      ]
     },
     "execution_count": 82,
     "metadata": {},
     "output_type": "execute_result"
    }
   ],
   "source": [
    "df"
   ]
  },
  {
   "cell_type": "code",
   "execution_count": 81,
   "id": "ec63512d-3066-402d-a097-caea82a099fa",
   "metadata": {},
   "outputs": [],
   "source": [
    "df.to_excel(\"stage_1587758.xlsx\")"
   ]
  },
  {
   "cell_type": "code",
   "execution_count": 43,
   "id": "db6e2baa-727c-44d0-bf53-c67598db2746",
   "metadata": {},
   "outputs": [
    {
     "name": "stdout",
     "output_type": "stream",
     "text": [
      "JSONDecodeError: Expecting ',' delimiter: line 1 column 43476 (char 43475)\n"
     ]
    }
   ],
   "source": [
    "cleaned_output = re.sub(r'[\\r\\n]+', '', output)  # Remove newlines\n",
    "#cleaned_output = cleaned_output.replace(\"'\", '\"')    # Convert single to double quotes\n",
    "\n",
    "# Attempt to load the JSON data\n",
    "try:\n",
    "    json_data = json.loads(cleaned_output)\n",
    "except json.JSONDecodeError as e:\n",
    "    print(\"JSONDecodeError:\", e)\n",
    "    #print(\"Raw output for debugging:\", output)"
   ]
  },
  {
   "cell_type": "code",
   "execution_count": 49,
   "id": "95c37e6d-581a-4ce6-9caf-4291f4c14b36",
   "metadata": {},
   "outputs": [
    {
     "data": {
      "text/plain": [
       "'i'"
      ]
     },
     "execution_count": 49,
     "metadata": {},
     "output_type": "execute_result"
    }
   ],
   "source": [
    "output[43475]"
   ]
  },
  {
   "cell_type": "code",
   "execution_count": 50,
   "id": "f1cabeb3-567c-4063-adc8-de5ec402218d",
   "metadata": {},
   "outputs": [
    {
     "name": "stdout",
     "output_type": "stream",
     "text": [
      "JSONDecodeError: Expecting ',' delimiter: line 1 column 43630 (char 43629)\n",
      "Cleaned output for debugging: [    {        \"speaker\": \"Kerbenne\",        \"instruction\": \"idet han hidsig kaster Brevet fra sig.\",        \"utterance\": \"Ak, det havde jeg ikke ventet mig nei, det havde jeg ikke\"    },    {        \"speaker\": \"Hortense\",        \"instruction\": \"nærmer sig til sin Fader.\",        \"utterance\": \"Min kjære Fader, hvad er der i Veien\"    },    {        \"speaker\": \"Kerbenne\",        \"utterance\": \"Denne Proces med min Svoger d'Ancenis, denne Proces angaaende vort Opgjør, som har været i 10 Aar.\"    },    {        \"speaker\": \"Hortense\",        \"instruction\": \"smilende:\",        \"utterance\": \"ligesom den troganske Krig.\"    },    {        \"speaker\": \"Kerbenne\",        \"utterance\": \"Denne Proces, som jeg vandt ved første Instants\"    },    {        \"speaker\": \"Hortense\",        \"utterance\": \"Nu vel.\"    },    {        \"speaker\": \"Kerbenne\",        \"instruction\": \"gaar over paa den venstre Side.\",        \"utterance\": \"Nu vel! Ja, nu har jeg tabt den i Paris ved Overretten. Men du fatter vel at jeg ikke lader det bero hermed. Jeg er en Bretagner og jeg giver mig ikke. Denne Aften skriver jeg til en ny Advokat.\"    },    {        \"speaker\": \"Hortense\",        \"utterance\": \"Endnu en. Det bliver den syvende\"    },    {        \"speaker\": \"Kerbenne\",        \"utterance\": \"En Advokat ved Kassationsretten som skal besørge Sagens videre Paaanke.\"    },    {        \"speaker\": \"Hortense\",        \"instruction\": \"bønfaldende \",        \"utterance\": \"Fader\"    },    {        \"speaker\": \"Kerbenne\",        \"instruction\": \"Igaar igjen over tilhøire\",        \"utterance\": \"Ja om den saa kom til at være til Aar endnu. Og hvis jeg skulde dø, inden den slutter, saa skal Du arve den. Jeg haaber, Du ikke giver Seip paa den Arv, men at ogsaa Du hele dit Liv vil værne om vore Rettigheder: sætter\"    },    {        \"speaker\": \"Hortense\",        \"instruction\": \"staaende, børende sig mod sin Fader.\",        \"utterance\": \"Ja, Fader, det vil jeg, men gjør mig en Tjeneste og hør ogsaa for en Gangs Skyld mit Indlæg i Sagen\"    },    {        \"speaker\": \"Kerbenne\",        \"utterance\": \"Et Indlæg\"    },    {        \"speaker\": \"Hortense\",        \"utterance\": \"Jeg skal være din ottende Advokat. Men han skal ikke koste Dig Noget, han gør kun Fordring paa Lykke og Hvor stor var oprinSindsro for Dig.\"    },    {        \"speaker\": \"Kerbenne\",        \"instruction\": \"med Varme.\",        \"utterance\": \"50,000 Francs. Min Svoger og jeg vare Kompagnoner; men da min Søster, den stakkels Tante, døde, maatte vi skride til Opgjør bringe Rede i Regnskaberne, og efter vore Bøger stod jeg i et Forskud af 50,000 Francs. - Tænk Dig.\"    },    {        \"speaker\": \"Hortense\",        \"utterance\": \"Jeg procederer ikke fra Grunden af, Fader; jeg gør som Dommeren i første Instants, jeg lader Dig vinde Sagen. Det er altsaa disse 50,000 Francs hvorom Processen i Begyndelsen dreiede sig.\"    },    {        \"speaker\": \"Kerbenne\",        \"utterance\": \"Ja, men denne første Proces har draget et Dusin andre efter sig\"    },    {        \"speaker\": \"Hortense\",        \"utterance\": \"Nu vel! Hvor store Udgifter har Du nu i det Hele taget havt. Alt iberegnet.\"    },    {        \"speaker\": \"Kerbenne\",        \"instruction\": \"med Lune:\",        \"utterance\": \"Hvad ved jeg det 30,000 Francs. Sæt 100, 120 om Du vil\"    },    {        \"speaker\": \"Hortense\",        \"utterance\": \"Hvad gør det. Du er rig, meget rig Du har ofte sagt mig; man anfører altid Hr. Kerbenne som en af de første Fabrikherrer og Godseier i Bretagne. Og desuden, Du har kun en eneste Datter, en udmærket Datter, som elsker Dig, som er omhyggelig for Dig, som altid er af samme Mening som Du og aldrig skjænder paa Dig; og dog, skjøndt Du har saa megen Grund til at være lykkelig, er Du det ikke\"    },    {        \"speaker\": \"Kerbenne\",        \"utterance\": \"Det er sandt\"    },    {        \"speaker\": \"Hortense\",        \"utterance\": \"Opfør i dine Regnskabsbøger Alt hvad disse 10 Aar har kostet Dig. Sorger, Bekymringer, Ængstelser, feilslagne Forhaabninger, - alle de Aftener, Du har talt med mig om denne Proces.\"    },    {        \"speaker\": \"Kerbenne\",        \"utterance\": \"Ja, i 10 Aar har jeg vundet den hver eneste Aften.\"    },    {        \"speaker\": \"Hortense\",        \"utterance\": \"Læg Utaalmodigheden til, det slette Humør, som altid staar i Veien for Fortroligheden. Hadet, som udtørrer Hjertet, Vreden, som jager Blodet til Hovedet; og beregn saa, Du som forstaar at gjøre overslag, alle de Pinsler, hver Dag bringer med sig og sig mig nu om 50,000 Francs Vinding nogensinde kan erstatte alt dette\"    },    {        \"speaker\": \"Kerbenne\",        \"instruction\": \"reiser sig.\",        \"utterance\": \"Det er muligt. Men jeg kan ikke give mig, thi jeg har Ret. gaa over tilvenstre\"    },    {        \"speaker\": \"Hortense\",        \"utterance\": \"Alle, som procederer, siger det Samme.\"    },    {        \"speaker\": \"Kerbenne\",        \"utterance\": \"Jeg kan ikke lade denne d'Ancenis denne Slægtning, som jeg afskyer, bryste sig i sin Triumf\"    },    {        \"speaker\": \"Hortense\",        \"utterance\": \"En herlig Triumf. For det Første koster det ham sandsynligvis lige saa meget som Dig, og han er ikke rig. Man siger, han har lidt store Tab.\"    },    {        \"speaker\": \"Kerbenne\",        \"instruction\": \"heftig.\",        \"utterance\": \"Det er hans egen Skyld, hvorfor procederer han istedetfor at passe sine Forretninger. Dersom han var kommen til mig, dersom han havde sagt: \\\"jeg har Uret, saa vilde jeg have afstaaet ham disse 50,000 Francs og 2-3 Gange saa meget, om det skulde været. Hortense Ak, det er Ret; nu kjender jeg Dig igjen! Men hvorledes kan han tilstaa at han har Uret, naar han ligesom Du tror, han har Ret, naar han ligesom Du tror, at hans Ære er med i Spillet.\"    },    {        \"speaker\": \"Kerbenne\",        \"utterance\": \"Hans Ære! Sig hellere hans Halsstarrighed, hans Egensindighed; thi han er egensindig.\"    },    {        \"speaker\": \"Hortense\",        \"utterance\": \"Han er Bretagner ligesom Du\"    },    {        \"speaker\": \"Kerbenne\",        \"utterance\": \"Dobbelt saameget. Kan Du erindre ham?\"    },    {        \"speaker\": \"Hortense\",        \"utterance\": \"Ja jeg erindrer at han var en meget elskværdig og meget lydig Onkel, han gjorde Alt, hvad jeg vilde; gav mig hver Dag nydelige Dukker, som hans Søn, min Fætter Edvard i et Væk slog itu\"    },    {        \"speaker\": \"Kerbenne\",        \"utterance\": \"Han, med hvem Du altid laa i Strid\"    },    {        \"speaker\": \"Hortense\",        \"utterance\": \"Det forhindrede os dog ikke i at holde af hinanden. Men Du har opdraget mig til at betragte dem som ligegyldige Personer, som Fremmede, Fiender\"    },    {        \"speaker\": \"Kerbenne\",        \"instruction\": \"heftig.\",        \"utterance\": \"Og det har jeg gjort Ret i! Men Du taler, som om Du kjendte dem endnu, og Du har dog ikke seet dem siden Du var Barn.\"    },    {        \"speaker\": \"Hortense\",        \"utterance\": \"Maaske dog\"    },    {        \"speaker\": \"Kerbenne\",        \"instruction\": \"rynkende Panden.\",        \"utterance\": \"Hvad vil det sige.\"    },    {        \"speaker\": \"Hortense\",        \"utterance\": \"Paa Ballet i Præfektens Hotel i Brest for 2 Maaneder siden sad jeg ved Siden af Frøken de Kerkardo, en af Stedets Skjønheder, en Veninde af mig, som havde taget mig med, og som var den Eneste, der kjendte mig der. Vi lagde Mærke til en Herre, der stod blandt en Del andre, og som afvexlende kastede sine Blikke paa hende og mig. Det var klart, at han tænkte paa, at gøre et Valg mellem os\"    },    {        \"speaker\": \"Kerbenne\",        \"utterance\": \"Det vakte Jers Nysgjerrighed\"    },    {        \"speaker\": \"Hortense\",        \"instruction\": \"smilende.\",        \"utterance\": \"Ja ganske vist. Nu da, han kom til mig\"    },    {        \"speaker\": \"Kerbenne\",        \"utterance\": \"Det smigrede din Forfængelighed\"    },    {        \"speaker\": \"Hortense\",        \"utterance\": \"Jeg nægter det ikke. Min Kavaler var meget munter, meget underholdende var original, aandrig og valsede meget godt. Kort sagt, det var en udmærket Kavaler. Da jeg kom tilbage til min Plads, spurgte jeg min Veninde, hvad han hed. Edvard d'Ancenis. Min Nør Kerberne Det var min fætter, som Du i 10 Aar har vant mig at afsky, og jeg skyndte mig at sætte mig ind i Vanen igjen. Jeg bad Frøken de Kerkardo, ikke at nævne mit Navn, og da han atter engagerede mig, tænkte jeg paa Dig, Fader og svarede koldt, at jeg ikke vilde dandse mere den hele Aften. Og jeg holdt Ord.\"    },    {        \"speaker\": \"Kerbenne\",        \"utterance\": \"Det var godt gjort\"    },    {        \"speaker\": \"Hortense\",        \"utterance\": \"Ja ikke sandt? Jeg opførte mig som en Datter som en Heltinde. Men tænk Dig, Sandheden byder mig at fortælle Dig det tænk Dig, fra det Øieblik dandsede han heller ikke mere. Hvergang min Veninde dandsede, satte han sig; men det kunde jeg jo ikke have tænkt mig som af en Hændelse ved Siden af mig.\"    },    {        \"speaker\": \"Kerbenne\",        \"utterance\": \"For at kurtisere Dig\"    },    {        \"speaker\": \"Hortense\",        \"utterance\": \"Ja, jeg fattede strax en Mistanke om at det var hans Hensigt. Men min strænge Mine gav ham at forstaa, at ethvert andet Thema var mig mere behageligt, og strax efter dreiede Konversationen sig om Reiser, om Amerika hvorfra han netop var kommen hjem,\"    },    {        \"speaker\": \"Kerbenne\",        \"utterance\": \"om hans Føden Bretagne, som han vilde gjennemvandre tilføds og Alt gik saa ligefrem, saa utvungent, saa venskabeligt, ja næsten familiert, at jeg kunde have troet, at han havde gjenkjendt mig, hvis han ikke ved Aftensbordet indstændig havde anmodet Frøken de Kerkardo, om at sige ham hvem jeg var. Noget han forresten ikke fik at vide. Nu ved Du, Fader, hvordan jeg mod min Villie har fornyet Bekjendtskabet med min forhadte Fætter.\"    },    {        \"speaker\": \"Kerbenne\",        \"utterance\": \"som Du nu ikke længer hader \"    },    {        \"speaker\": \"Hortense\",        \"utterance\": \"Nei, det er sandt.\"    },    {        \"speaker\": \"Kerbenne\",        \"utterance\": \"Vær nu oprigtig lige til Enden. Bor han ikke dybere der, peger paa Panden og derpaa paa Hjertet eller der end Du nu har villet tilstaa mig\"    },    {        \"speaker\": \"Hortense\",        \"utterance\": \"Nei, Fader\"    },    {        \"speaker\": \"Kerbenne\",        \"utterance\": \"I Løbet af 3 Maaneder har Du afslaaet 3 Partier. Af hvad Grund\"    },    {        \"speaker\": \"Hortense\",        \"utterance\": \"Fordi de ikke behagede mig.\"    },    {        \"speaker\": \"Kerbenne\",        \"utterance\": \"End vor Nabo Hr. de Pampe, den rige Godseier\"    },    {        \"speaker\": \"Hortense\",        \"utterance\": \"Jeg troede ikke, han havde meldt sig endnu\"    },    {        \"speaker\": \"Kerbenne\",        \"utterance\": \"Hr. de Pampoe er en forsigtig og forstandig Mand, som ikke gjør noget Skridt, førend han nøie har overveiet det. Men hvis han skulde melde sig, har jeg en Idé.\"    },    {        \"speaker\": \"Hortense\",        \"utterance\": \"Ja Du har nu en, men jeg kunde maaske have en anden. Og om jeg nu ikke saameget for min egen Skyld, som for Den, vovede at sætte min Ide over min Faders\"    },    {        \"speaker\": \"Kerbenne\",        \"utterance\": \"Tal\"    },    {        \"speaker\": \"Hortense\",        \"utterance\": \"Det er en Drøm, jeg vil fortælle Dig en Fantasi. For det Første, dersom jeg nu var Dig, vilde jeg tænke som saa at en Proces, som stadig skaffer Dig saa mange Ubehageligheder, var en ganske udmærket Ting - at tabe. Jeg vilde glæde mig, naar jeg havde tabt den og snarest muligt give Slip paa min Appel til Kassationsretten.\"    },    {        \"speaker\": \"Kerbenne\",        \"instruction\": \"ironisk\",        \"utterance\": \"Virkelig. Nu videre.\"    },    {        \"speaker\": \"Hortense\",        \"utterance\": \"Videre! Jeg vilde skrive til min Svoger! Den sletteste mindelige Overenskomst er dog bedre end den bedste Proces. (: en Smule forlegen.) Send mig derfor Deres Søn, min Neven Edvard forsynet med uindskrænket Fuldmagt, herhed, for at vi kan\"    },    {        \"speaker\": \"Kerbenne\",        \"utterance\": \"ironisk\",        \"instruction\": \"det Hele i Fred og Glæde. \"    },    {        \"speaker\": \"Hortense\",        \"instruction\": \"med nedslagne Øine\",        \"utterance\": \"Ja netop.\"    },    {        \"speaker\": \"Kerbenne\",        \"utterance\": \"idet jeg giver ham min Datter tilægte \"    },    {        \"speaker\": \"Hortense\",        \"instruction\": \"smilende, betragtende sin Fader\",        \"utterance\": \"Hvad for Noget? Hvem kunde falde paa en saadan Tanke. \"    },    {        \"speaker\": \"Kerbenne\",        \"instruction\": \"vred\",        \"utterance\": \"Jeg ikke, det forsikrer jeg Dig.\"    },    {        \"speaker\": \"Hortense\",        \"instruction\": \"Rød\",        \"utterance\": \"Jeg heller ikke.\"    },    {        \"speaker\": \"Hortense\",        \"utterance\": \"Nu vel der har Du endnu en Grund til at sige til din Neveu. Vi har i lang Tid levet som Capulette og Montechi, og De afskyet hverandre. Lad os nu ophøre med vore Fiendtligheder og lad dem ikke gaa i Arv til vore Børn. I min Søsters, Deres Moders Navn, lad det være en Ende paa Had og Processer Tag de 50,000 Francs. J. med en Gestus til Herbenne:) Det er Dig, som siger dette, Fader - og giv os for denne Pris Venner. Her har Du den Overenskomst jeg vilde foreslaa.\"    },    {        \"speaker\": \"Kerbenne\",        \"utterance\": \"Ak, det er saadan Du dømmer \"    },    {        \"speaker\": \"Hortense\",        \"utterance\": \"I sidste Instants\"    },    {        \"speaker\": \"Kerbenne\",        \"instruction\": \"Ja, det er godt; (afsides\",        \"utterance\": \"Jeg vil fra min Side undersøge, om jeg skal stadfæste eller underkjende denne Dom.\"    },    {        \"speaker\": \"Hortense\",        \"instruction\": \"efter en Pause\",        \"utterance\": \"Du er saa taus, Fader\"    },    {        \"speaker\": \"Kerbenne\",        \"utterance\": \"Ja, du Sande bliver saa mørk (: ser ud af kun kué Ko teo Vinduet tilhøire - og Himlen ogsaa Det er et uveir, der trækker op.\"    },    {        \"speaker\": \"Kerbenne\",        \"utterance\": \"ser ud. Det er allerede brudt løs.\"    },    {        \"speaker\": \"Hortense\",        \"utterance\": \"Saameget desto værre. Jeg er overtroisk, og dette er et slet Varsel.\"    },    {        \"speaker\": \"Joceline\",        \"instruction\": \"træder ind fra Baggrunden og raaber forskrækket ud gjennem Kulisserne;\",        \"utterance\": \"Luk Vinduerne! Saa luk Vinduerne siger jeg.\"    },    {        \"speaker\": \"Kerbenne\",        \"utterance\": \"Ja Gud bevares, Joceline, hvilken Spektakkel.\"    },    {        \"speaker\": \"Joceline\",        \"utterance\": \"En forfærdelig Regn, som allerede styrter ned i Strømme, og en Vind som truer med at knuse alle Ruderne i Fabriksen\"    },    {        \"speaker\": \"Hortense\",        \"instruction\": \"ser ud igjennem Vinduet tilhøire.\",        \"utterance\": \"Og dernede ved Enden af den store Alle kommer en Vogn mod Vind og Strøm. Det er vor Nabo, de Pampoes\"    },    {        \"speaker\": \"Kerbenne\",        \"utterance\": \"Er Du vis paa det.\"    },    {        \"speaker\": \"Hortense\",        \"instruction\": \"fortrædelig!\",        \"utterance\": \"Ja jeg gjenkjender den\"    },    {        \"speaker\": \"Kerbenne\",        \"utterance\": \"Men jeg gjenkjender ikke hans sædvanlige Klogskab i dette. At begive sig paa Veien i saa et Uveir,\"    },    {        \"speaker\": \"Hortense\",        \"instruction\": \"som før\",        \"utterance\": \"Du faar modtage hans Visit, thi jeg er endnu i mit Morgentoilet.\"    },    {        \"speaker\": \"Kerbenne\",        \"utterance\": \"Nei paa ingen Maade. Jeg skal skrive til Paris, i Anledning af min Appel.\"    },    {        \"speaker\": \"Hortense\",        \"instruction\": \"som før\",        \"utterance\": \"Din Appel\"    },    {        \"speaker\": \"Kerbenne\",        \"utterance\": \"Det tager Tid. Dit Toilet derimod\"    },    {        \"speaker\": \"Hortense\",        \"instruction\": \"som før\",        \"utterance\": \"Det vil blive meget langvarigt.\"    },    {        \"speaker\": \"Kerbenne\",        \"utterance\": \"Saa faar Joceline bede Hr. Pampe vente nogle Øieblikke (Man hører en Klokke tilvenstre\"    },    {        \"speaker\": \"Joceline\",        \"utterance\": \"Det ringer paa Porten\"    },    {        \"speaker\": \"Hortense\",        \"instruction\": \"som før\",        \"utterance\": \"Det lader til at vi faar Visitter idag\"    },    {        \"speaker\": \"Jocele\",        \"instruction\": \"ser ud af Vinduet til venstre\",        \"utterance\": \"Der kommer en Fremmed, sikkert mod sin Villie, det er et ungt Menneske tilfødssom er aldeles gjennemvaad, og søger et Ly. Nu luker de ham ind\"    },    {        \"speaker\": \"Kerbenne\",        \"utterance\": \"Lukker de ham ind? Det er godt\"    },    {        \"speaker\": \"Hortense\",        \"instruction\": \"ironisk\",        \"utterance\": \"Gjæstfrihedens Pligter paaligger Dig, Fader. Jeg flygter\"    },    {        \"speaker\": \"Kerbenne\",        \"instruction\": \"til sin Datter, utaalmodig\",        \"utterance\": \"Saa har dog! Fanden ivold med alle Toiletter\"    },    {        \"speaker\": \"Kerbenne\",        \"utterance\": \"til Jocelme!) Før denne Herre ind Lad ham varme sig, tørre sig, og dersom han er sulten eller tørstig.\"    },    {        \"speaker\": \"Jocele\",        \"utterance\": \"Ja Herre, som sædvanligt. Man siger her i Egnen, at dette er et velsignet Hus\"    },    {        \"speaker\": \"Kerbenne\",        \"utterance\": \"vred:) nei! thi jeg er saa vred.\"    },    {        \"speaker\": \"Jocele\",        \"utterance\": \"Paa hvem, Herre\"    },    {        \"speaker\": \"Kerbenne\",        \"utterance\": \"Paa Dig, paa mig, paa hele Verden Visitterne, Forretningerne; - jeg gav dem gjerne Døden og Djævelen. Det er nok, jeg går ind i mit Værelse.\"    },    {        \"speaker\": \"N/A\",        \"utterance\": \"gaar ud i Baggrunden tilhøire, i Scene\"    },    {        \"speaker\": \"Jocele\",        \"instruction\": \"alene.\",        \"utterance\": \"Kan man tænke sig en brav Mand være mere ufordragelig end min Herre, naar han har sat sig paa det Punkt. Alt, hvad han gør, Godt eller Ondt, gør han som en Orkan med Støi og meld. Ved den mindste Feil taler han om at kaste os Alle paa Døren, En anden Dag maade fattige Arbeidere have Penge: Se der! Tag det! Vær saa god. Han oser dem saa rundhaandet ud som en Styrtregn! Ja, som den falder i dette Øieblik.\"    },    {        \"speaker\": \"N/A\",        \"instruction\": \"4de Scene\",        \"utterance\": \"Joceline d'Ancenis\"    },    {        \"speaker\": \"dancens\",        \"instruction\": \"i kommer fra Baggrunden til venstre\",        \"utterance\": \"10, den deilige Regn. Og du Bretagnes deilige Himmel.\"    },    {        \"speaker\": \"Joceline\",        \"utterance\": \"Træd indenfor, kom ind, min Herre Jeg har faaet Befaling til at modtage Dem og opvarme Dem\"    },    {        \"speaker\": \"d'Ancenis\",        \"utterance\": \"tilende. Du mit Barn.\"    },    {        \"speaker\": \"Jocelme\",        \"utterance\": \"Ja, min Herre, Brændet er ikke dyrt her i Egnen. Og det er ogsaa et Veir til at blive i slet Humør over.\"    },    {        \"speaker\": \"d'Ancenis\",        \"utterance\": \"I slet Humør.\"    },    {        \"speaker\": \"d'Ancenis\",        \"utterance\": \"Det er jeg aldrig jeg tager det altid, som det falder.\"    },    {        \"speaker\": \"Jocelie\",        \"utterance\": \"Idag er det faldet meget ubehagelig\"    },    {        \"speaker\": \"d'Ancenis\",        \"utterance\": \"Det er blot for at det skal blive desto smukkere imorgen, og takket være min Regnskappe.\"    },    {        \"speaker\": \"d'Ancenis\",        \"instruction\": \"han kaster Kappen af sig og lægger den paa en Lænestol i Baggrunden tilvenstre\"    },    {        \"speaker\": \"Joceline\",        \"utterance\": \"Ja, sandelig! Han er ganske tør fra Top til Paa\"    },    {        \"speaker\": \"d'Ancenis\",        \"utterance\": \"gaar hen til Kammen! Ja, ser Du det er en ny Opfindelse. Men det forhindrer mig dog ikke i at nyde Behageligheden af den blussende Arne og den knittrende Ved. Hvor er Herren i Huset.\"    },    {        \"speaker\": \"Joceline\",        \"utterance\": \"Han er beskjæftiget paa sit Værelse.\"    },    {        \"speaker\": \"d Ancenis\",        \"utterance\": \"Og Fruen. Dersom der er nogen\"    },    {        \"speaker\": \"Jocele\",        \"utterance\": \"Frøkenen gør sit Toilette.\"    },    {        \"speaker\": \"d'Ancenis\",        \"utterance\": \"Nu vel, jeg vil vente, for at bevidne Dem min Erkjendtlighed. I sætter sig ved Ilden!) Og jeg vil være taalmodig for at Regnen kan benytte Tiden til at styrte ned.\"    },    {        \"speaker\": \"Jocelie\",        \"utterance\": \"Og De til at varme Dem.\"    },    {        \"speaker\": \"d'Ancenis\",        \"utterance\": \"Netop. Men vent! Saa vent dog! Du som har modtaget mig saa vel\"    },    {        \"speaker\": \"Joceline\",        \"utterance\": \"For Pokker, man er gjæstfri\"    },    {        \"speaker\": \"dancens\",        \"utterance\": \"og smuk! Se der!\"    },    {        \"speaker\": \"dancens\",        \"name\": \"griber i sin domme\",        \"chile\": \"Jocele afsides, idet hun gaar behøire. En Napoleonsdør. Af en Mand, som reiser tilfods\"    },    {        \"speaker\": \"5te Scene\",        \"utterance\": \"d'Ancenis siddende ved Kammen Papol\"    },    {        \"speaker\": \"Jocele\",        \"utterance\": \"Parmpol kommer ind fra Baggrunden Hvilket Veir. Hvilket frygteligt Veir. Jeg sad i min Vogn som i et BaDe. Det manglede kun et Thermometer.\"    },    {        \"speaker\": \"Jocelme\",        \"utterance\": \"Ja, De ser ogsaa ud som om De havde været tilstede ved Syndfloden.\"    },    {        \"speaker\": \"Papol\",        \"utterance\": \"Det er ikke saameget for Tingen i og for sig selv, som for dens Følger.\"    },    {        \"speaker\": \"Jocelme\",        \"utterance\": \"Snuen\"    },    {        \"speaker\": \"Parmpo\",        \"utterance\": \"Nei. (afsides.) Men paa en Dag som denne, da jeg skal fremsætte mit høitidelige Forlangende. (høit) Underret din Frøken om, at jeg er her. \"        },    {        \"speaker\": \"Jocelme\",        \"utterance\": \"Hun klæder sig\"    },    {        \"speaker\": \"Papol\",        \"utterance\": \"Ja det gjør Intet til Sagen. Hun kan dog klæde sig og vide, at jeg er her paa engang. Saa gaa dog! Det er dog nogle løierlige Folk disse Tjenestepiger. Jeg vil imidlertid tørre mig en Smule.\"    },    {        \"speaker\": \"N/A\",        \"utterance\": \"ser bort mod Kammen) Ak, Pladsen er allerede optagen\"    },    {        \"speaker\": \"Jocelse\",        \"utterance\": \"Det er et elskværdigt ungt Menneske som gjerne lader Dem faa Plads ved Kammen - thi han er saa elskværdig Farvel.\"    },    {        \"speaker\": \"Papol\",        \"utterance\": \"Farvel!\"    },    {        \"speaker\": \"Jocele\",        \"instruction\": \"afsides, idet hun ser paa Parmpol,\",        \"utterance\": \"Ingenting, og han kom dog kjørende gaar ud af første Dør tilhøire.\"    },    {        \"speaker\": \"6de Scene\",        \"utterance\": \"d Ancenis med Ryggen mod Kammen tilvenstre Papol Parmpoe.\"    },    {        \"speaker\": \"Parmpoe\",        \"instruction\": \"mistænksom.\",        \"utterance\": \"Et ungt Menneske et elskværdigt ungt Menneske! Skulde han have de samme Hensigter som mig jeg som har betænkt mig 2 Aar, førend jeg fremkommer med mit Forlangende.\"    },    {        \"speaker\": \"N/A\",        \"instruction\": \"gaar hen mod Kammen) Min Herre!\",        \"utterance\": \"dansenis løfter Hovedet) Er det muligt Parmpe impod'ancens\"    },    {        \"speaker\": \"dencenis\",        \"instruction\": \"gaar hen til Parmpol.\",        \"utterance\": \"Som jeg ikke har seet siden vi gik sammen i den polytekniske Skole.\"    },    {        \"speaker\": \"Papa\",        \"utterance\": \"Som Du forlod, da Du gik i tredie Klasse\"    },    {        \"speaker\": \"Ancenis\",        \"utterance\": \"End Du\"    },    {        \"speaker\": \"Parmpo\",        \"utterance\": \"Jeg dumpede. Det ved Du godt\"    },    {        \"speaker\": \"dancens\",        \"utterance\": \"Nei, det havde jeg glemt. Og hvad har Du foretaget Dig siden. Du havde Formue, tror jeg\"    },    {        \"speaker\": \"Pampo\",        \"utterance\": \"Min Fader havde erhvervet sig en smuk Formue ved Deligencebefordringen Men det gik jo ikke an for mig som en gammel Æreselev af Skolen at træde ind i hans Plads. Det gjaldt om at finde en Levevei.\"    },    {        \"speaker\": \"dencenis\",        \"utterance\": \"Dem er der nok af\"    },    {        \"speaker\": \"Pampo.\",        \"utterance\": \"Ja, altfor mange; og da jeg nu aldrig handler letsindigt, saa har jeg efterhaanden overtænkt dem alle.\"    },    {        \"speaker\": \"d'mcemis\",        \"utterance\": \"Og hvilken har Du valgt \"    },    {        \"speaker\": \"Parmboe\",        \"utterance\": \"Der var saamange Ulemper ved hver enkelt af dem, at jeg efter en 7Aars dyb Tænkning og modne Studier af det sociale Livs nuværende Tilstand, og af den almindelige Tendens til at komme frem i Verden og bare sig en Vei endelig besluttede mig til at vende tilbage til min Faders Stilling og lade mig udnævne til Bestyrer af Deligencefarten da pludseligt et Lovforslag udkom, der gjennemkrydsede Frankrig med Jernbaner.\"    },    {        \"speaker\": \"4Zancenis\",        \"utterance\": \"Din Spekulation duede ikke længere\"    },    {        \"speaker\": \"Pampoe\",        \"utterance\": \"Nei, det kan Du forlade Dig paa.\"    },    {        \"speaker\": \"dancens\",        \"utterance\": \"Der kan man se, hvad der kommer ud af at betænke sig formeget\"    },    {        \"speaker\": \"Parpol\",        \"utterance\": \"Jeg besluttede derpaa at kaste mig over Politikken og at fremstille mig som Deputeret i et Departement.\"    },    {        \"speaker\": \"dancens\",        \"utterance\": \"Hvilket vilde Du repræsentere\"    },    {        \"speaker\": \"Papol\",        \"utterance\": \"Hvilket? Vi har jo 86 og det gjorde Valget vanskeligt. For at kunne fatte en Beslutning og sætte mig ind i Sagen, begyndte jeg at reise rundt i Frankrig. 52,000 kommuner, det tager Tid op og jeg havde endnu ikke besigtiget alle Lokaliteterne, da 1848 indtraf.\"    },    {        \"speaker\": \"dancens\",        \"utterance\": \"En ny Tingenes Orden\"    },    {        \"speaker\": \"Pampo\",        \"utterance\": \"Fem Partier paa en Gang\"    },    {        \"speaker\": \"dancens\",        \"utterance\": \"Til hvilket skulde man slutte sig\"    },    {        \"speaker\": \"Pampol\",        \"utterance\": \"Ja det tiltrængte grundige Betragtninger, jeg overveiede længe alle Chancerne. og jeg erklærede mig endelig for Republiken - for den gamle af 2den December.\"    },    {        \"speaker\": \"d'Ancenis\",        \"utterance\": \"Det kan man kalde at være uheldig Og nu\"    },    {        \"speaker\": \"Papo\",        \"utterance\": \"Nu har jeg igjen begyndt at overveie og endelig har jeg fattet den Beslutning at jeg vil søge at komme ind i en eller anden god Stilling\"    },    {        \"speaker\": \"dancens\",        \"utterance\": \"Og hvilken\"    },    {        \"speaker\": \"Pamo\",        \"utterance\": \"Ja det er netop det, der sætter mig i Forlegenhed.\"    },    {        \"speaker\":\"Pompo\",        \"utterance\": \"Det er netop det, der sætter mig i Forlegenhed. \"    },    {        \"speaker\": \"dacenxs\",        \"utterance\": \"Skynd Dig og betænk Concurrensen\"    },    {        \"speaker\": \"Parmol\",        \"utterance\": \"For at finde en, som jeg kan beholde ganske for mig selv, hvis det forresten er muligt, har jeg rigtignok tænkt paa at gifte mig; men her maa man gaa frem med Forsigtighed, betænke sig for hvert Skridt, man gjør\"    },    {        \"speaker\": \"d'Ancenis\",        \"instruction\": \"smilende!\",        \"utterance\": \"Nu forstaar jeg dit Besøg. her er en Frøken, den Skjelm.\"    },    {        \"speaker\": \"Papa\",        \"instruction\": \"afsides.)\",        \"utterance\": \"Jeg har gisset rise.}\"    },    {        \"speaker\": \"Ancenis\",        \"utterance\": \"Er hun smuk.\"    },    {        \"speaker\": \"Parmpol\",        \"utterance\": \"Aa, saa taalelig. Men hvad derimod hendes Karakter angaar.\"    },    {        \"speaker\": \"d'Ancenis\",        \"utterance\": \"Da er den udmærket.\"    },    {        \"speaker\": \"Parmpol\",        \"utterance\": \"Nei, paa ingen Maade. En Nabo har saamange Anledninger til at gjøre sine Iagttagelser. Du kan jo selv dømme, thi Du er formodentlig kommen her i Huset.\"    },    {        \"speaker\": \"d'Ancens\",        \"instruction\": \"for at varme mig.\",        \"utterance\": \"han stiller sig med Ryggen mod Kammen;\"    },    {        \"speaker\": \"Paopel\",        \"instruction\": \"afsides). \",        \"utterance\": \"Det er Løgn. høit og leende.\"    },    {        \"speaker\": \"Pampol\",        \"utterance\": \"Nu, saa Du er kommen sætter sig i en Læneste ligeoverfor d'Ancens\"    },    {        \"speaker\": \"dancens\",        \"utterance\": \"Ledet af min Stjerne, min sædvanlige Veiviser. Thi jeg er ikke som Du; jeg kaster ikke Tiden bort paa at gjøre Valg. Jeg er overbevist om, at der raader en Skjebne deroppe, som ved mere end vi og jeg overlader gjerne denne at styre mine Anliggender\"    },    {        \"speaker\": \"Parmpol\",        \"utterance\": \"Aa Snak,\"    },    {        \"speaker\": \"dancens\",        \"utterance\": \"Hidtil har jeg befundet mig vel ved det.\"    },    {        \"speaker\": \"Pampol\",        \"utterance\": \"Aa det er ikke muligt.\"    },    {        \"speaker\": \"d'Ancens\",        \"utterance\": \"om nu selv. Min Fader var rummeret ved en Familieproces og kunde ikke understøtte mig, og da jeg havde forladt Bjergværksskolen, besluttede jeg at søge min Lykke i San Francisco, i Sonora eller i Mexiko. To Skibe laa netop seilfærdige i Havre, Jeanne d'Are og Engene, begge to lige gode og begge raske Seilere; der var altsaa ingen Grund til at foretrække det ene for det andet Dette vilde have holdt Dig tilbage i en Maaned; mig standsede det ikke i fem Minutter. Jeg stolede paa at min Stjerne vilde lede mig og valgte paa Lykke og Fromme Jeannedetre og kom paa det i god Behold frem.\"    },    {        \"speaker\": \"Papoe\",        \"utterance\": \"Og Engene\"    },    {        \"speaker\": \"dancenis\",        \"utterance\": \"Kom ikke frem. Tænk Dig, det forliste paa Veien. Du ser min Lykke. Jeg forbigaar mine Eventyr i Kalernon. Som Ingenieur ved Minerne og ved strengt Arbeide tjente jeg i nogle Aar nogle tusinde Fjøstre, som jeg sendte tilbage til Frankrig. Det var nu ingen videre Formue. Jeg gav min Fader en Det af dem for at dække Omkostningerne ved den evindelige Proces, og den Smule jeg havde igjen maatte jeg jo gjøre mig nyttig, men at anbringe Penge godt er ingen let Sag, derfor!\"    },    {        \"speaker\": \"Pampogav\",        \"utterance\": \"Du Dig ifærd med at overveie\"    },    {        \"speaker\": \"dancens\",        \"utterance\": \"Nei paa ingen Maade. Jeg gav mig ifærd med at skrive de Papirers Navne som stod i Kurs paa Børsen paa forskjellige Strimler Papir, og da jeg havde bragt disse Maader at anbringe mine Penge paa i tilbørlig Orden.\"    },    {        \"speaker\": \"Parmboe\",        \"utterance\": \"i dit Hoved.\"    },    {        \"speaker\": \"d'Ancenis\",        \"utterance\": \"Nei, i min Hat, saa udtrak jeg et aldeles ubekjendt Ord af Urnen. Det var Skjæbnens Dom. Jeg forstod den ikke, men jeg adlod den blandt. Min Stjerne skuffede mig ikke. Efter nogle Dages Forløb - det er forbausende, det er forskrækkeligt, at man fra den ene Dag til den anden kan gjøre saa uhyre Affærer.\"    },    {        \"speaker\": \"Pampol\",        \"utterance\": \"en Stilling, som jeg forresten altid har sværmet for; jeg var bleven Millionær paa en uge.\"    },    {        \"speaker\": \"d'Ancenis\",        \"instruction\": \"han gaar over tilhøire.\",        \"utterance\": \"efter nogle Dages Forløb var jeg tillionær\"    },    {        \"speaker\": \"Parmpo\",        \"instruction\": \"reiser sig.\",        \"utterance\": \"Naa, og saa vedblev Du da at operere.\"    },    {        \"speaker\": \"d'concens\",        \"utterance\": \"Fy for Pokkeren! Det kunde kun en Spiller gjort, og det er jeg ikke. Jeg henvender mig ikke til min Stjerne, undtagen, naar jeg har det Behov. Jeg realiserede min Formue og sendte min Fader den, og nu reiser jeg om som Tourist for min Fornøielses Skyld. Idag morges vilde jeg gaa til Gruberne i Poullavien, men da jeg kom til en Korsvei, hvor tre Veie stødte sammen, og der Ingen var, som kunde vise mig den rette, valgte jeg naturligvis som jeg pleier paa Lykke og Fromme Veien tilvenstre\"    },    {        \"speaker\": \"Parmpol.\",        \"utterance\": \"Som var feie. Du vendte netop Ryggen til dit Bestemmelsessted.\"    },    {        \"speaker\": \"d'Ancenis\",        \"utterance\": \"Kan Du vide det? Det er endnu ikke sikkert om jeg ikke har taget den rigtige Vei. Jeg er bleven overfalden af et uveir, det er jo sandt, men jeg har som Du ser, truffet sammen med en gammel Kammerat, med en Ven, som ikke har anden Feil end at han ikke ser Tingene fra det samme Synspunkt som jeg\"    },    {        \"speaker\": \"Parmpol\",        \"utterance\": \"Nei, det roser jeg mig rigtignok af\"    },    {        \"speaker\": \"Parmpol\",        \"utterance\": \"Det er altid farligt at stole paa Stjerner.\"    },    {        \"speaker\": \"d'Ancenis\",        \"utterance\": \"er ofte meget bedre end en Vis, som tænker formeget\"    },    {        \"speaker\": \"Pampo\",        \"utterance\": \"Men Du bestemmer Dig i et Minut\"    },    {        \"speaker\": \"dancens\",        \"utterance\": \"Og Du bestemmer Dig aldrig\"    },    {        \"speaker\": \"7de Scene\",        \"utterance\": \"De Forrige Joceline (kommer ud af Døren tilhøire\"    },    {        \"speaker\": \"Pampol\",        \"utterance\": \"Frøkenen er visibel, og vil have den Ære at modtage Hr. de Pampe\"    },    {        \"speaker\": \"d'ancenis\",        \"utterance\": \"Farvel, min Ven, god Lykke. Regnen er ophørt; det klarer op.\"    },    {        \"speaker\": \"d'ancenis\",        \"instruction\": \": Han giver sig ifærd med at tage Regnkappen paa igjen\"    },    {        \"speaker\": \"Pampo.\",        \"utterance\": \"forbauset.) Du bliver ikke\"    },    {        \"speaker\": \"dancens\",        \"utterance\": \"Jeg havde tænkt at begive mig paa Veien igen, naar jeg havde takket Herren i Huset som jeg endnu ikke kjender.\"    },    {        \"speaker\": \"Pampol\",        \"utterance\": \"Virkelig\"    },    {        \"speaker\": \"dancenis\",        \"utterance\": \"Ligesålidet som hans Datter. Du faar paatage Dig at frembringe en Reisendes erkjendtlige og ærbødige Tak.\"    },    {        \"speaker\": \"Pampol\",        \"instruction\": \"afsides.\",        \"utterance\": \"Jeg tog Feil, men det gør ikke Noget. Overdreven Forsigtighed skader aldrig\"    },    {        \"speaker\": \"Jocele\",        \"instruction\": \"Man hører en utaalmodig Ringen i Baggrunden tilhøire.\",        \"utterance\": \"Det er Herren\"    },    {        \"speaker\": \"d'Ancens\",        \"utterance\": \"Herren lægger Kappen ned igen\"    },    {        \"speaker\": \"Joceline\",        \"utterance\": \"Klokken fortæller, at han er ikke i godt Humør og at Uveiret endnu ikke er ophørt paa den Kant,\"    },    {        \"speaker\": \"Parmpol\",        \"utterance\": \"Nei, det hører sjeldent op. Jeg vil skynde mig med at finde et Ly hos hans Datter.\"    },    {        \"speaker\": \"N/A\",        \"utterance\": \"gaar ud gjennem den første Dor tilhøire.\"    },    {        \"speaker\": \"N/A\",        \"utterance\": \"Kerbenne viser sig i Døren i Baggrunden;\"    },    {        \"speaker\": \"8de Scene.\",        \"utterance\": \"2 Ancens (i Baggrunden tilvenstre Kerbenne og Jocelme\"    },    {        \"speaker\": \"Kerbenne\",        \"utterance\": \"Er alle Folk døve her i Huset.\"    },    {        \"speaker\": \"Joceline\",        \"utterance\": \"Jeg var hos Frøkenen. Nu kommer jeg\"    },    {        \"speaker\": \"Kerbenne\",        \"utterance\": \"Lad min Jæger klæde sig paa og sadle en Hest, han skal bringe et Brev til Byen. Paa Øieblikket! Paa Øieblikket, hører Du\"    },    {        \"speaker\": \"Joceline\",\t\t\"instruction\": \"gaar ud i Baggrunden.\",        \"utterance\": \"Ja Herre\"    },    {        \"speaker\": \"Kerbenne\",        \"utterance\": \"følger hende med en truende Gestus, Og dersom han ikke inden 10 Minutter er tilhest - (bemærker dancens, som hilser paa ham: Om Forladelse, min Herre! Det er et Brev, som jeg netop har skrevet til min Kommissionær i Paris; en Appel til Kassationsretten\"    },    {        \"speaker\": \"d'Ancenis\",        \"utterance\": \"Det er mig, som maa bede Dem om Forladelse for mit ubeskedne Besøg Jeg har truffet en varm peger paa Kammen) Gjæstfrihed hos Dem, og jeg ventede blot for at takke Dem, førend jeg gik videre\"    },    {        \"speaker\": \"Kerbenne\",        \"utterance\": \"Allerede.\"    },    {        \"speaker\": \"dancens\",        \"utterance\": \"Regnen er forbi\"    },    {        \"speaker\": \"Kerbenne\",        \"utterance\": \"Men Veiene ere ikke tørre endnu; de maa være frygtelige. Og De er tilfods Mine Heste og min Vogn er til Deres Tjeneste. Men hvad der vilde være endnu bedre var, om De vilde blive her en Del af Dagen. Vi spiser tidlig til Middag, saa De vil faa god Tid til at vende tilbage til Byen\"    },    {        \"speaker\": \"dancenis.\",        \"utterance\": \"I Sandhed, min Herre, Deres Indbydelse\"    },    {        \"speaker\": \"Kerbenne\",        \"utterance\": \"bør modtages, som jeg har fremsat den, uden Ceremoni, og dersom De ikke har Hastværk\"    },    {        \"speaker\": \"dancenis\",        \"utterance\": \"Jeg? Nei, jeg har Intet at bestille og reiser blot for min Fornøielse.\"    },    {        \"speaker\": \"Kerberne\",        \"utterance\": \"(rækker Haanden: Det er da en Aftale Der er min Haand\"    },    {        \"speaker\": \"dancenis\",        \"utterance\": \"rækker ham sin) I Sandhed, De viser Gjæstfrihed paa en Maade, som\"    },    {        \"speaker\": \"Kerbenne\",        \"utterance\": \"er ganske naturlig. Mit Hus er aabent for alle Fremmede, og vi modtage en hel Del af dem; men det er sjeldent, de ser saa godt ud. uden at ville sige Dem nogen Kompliment; det gjør jeg aldrig. De gjennemvandrer altsaa vort Bretagne.\"    },    {        \"speaker\": \"d'Ancenis\",        \"utterance\": \"Det er min Fødeegn og jeg har ikke seet den, siden jeg var Barn\"    },    {        \"speaker\": \"Kerbenne\",        \"utterance\": \"Ak, en Landsmand\"    },    {        \"speaker\": \"dancenis\",        \"utterance\": \"Ja jeg er stolt deraf. Jeg har reist nogle tusinde Mile tillands og tilses men jeg har intetsteds truffet noget saa malerisk, som vore Kyster og Strande, vore Klipper\"    },    {        \"speaker\": \"Kerbenne\",        \"instruction\": \"med Stolthed.\",        \"utterance\": \"Ja er det ikke sandt\"    },    {        \"speaker\": \"dencenis\",        \"utterance\": \"Hver Dag viser mig et nyt Skuespil et nyt Vidunder\"    },    {        \"speaker\": \"Kerbenne\",        \"utterance\": \"Hvorhen har De tænkt Dem idag\"    },    {        \"speaker\": \"d'Ancenis\",        \"utterance\": \"Jeg har tænkt at spise Frokost i Poulowen, hvor der skal være mærkværdige Bly- og Sølvgruber, og skjøndt jeg ikke kjender Nogen der.\"    },    {        \"speaker\": \"Kerbenne\",        \"utterance\": \"Hvis De ønsker et Anbefalingsbrev, saa er Direktøren en prægtig Mand, en af mine Venner\"    },    {        \"speaker\": \"d'Angens\",        \"utterance\": \"De gjør mig sandelig ganske skamfuld\"    },    {        \"speaker\": \"Kerbenne\",        \"utterance\": \"Men først maa De spise til Frokost gaapogt hen til Skrivebordet og ringer og siden ved De ikke hvad De er udsat for. Jeg har en Fabrik for Seilang, Andertorge og andet Skibstougværk, som forsyner Havnene ved Brest, l'Orient og Cherbourg\"    },    {        \"speaker\": \"d'Ancenis\",        \"utterance\": \"Og De tillader mig at bese alt dette nøiagtigt.\"    },    {        \"speaker\": \"Kerbenne\",        \"utterance\": \"Om jeg tillader det? Jeg vil selv vise Dem omkring allevegne. Jeg eftergiver Dem ikke det Ringeste.\"    },    {        \"speaker\": \"Kerbenne\",        \"instruction\": \"(tager en Bog paa Skrivebordet)\",        \"utterance\": \"For at gjøre en Begyndelse beder jeg Dem modtage denne Afhandling af mig. De kan gjennemløbe den senere engang\"    },    {        \"speaker\": \"dancens\",        \"instruction\": \"Paa Øieblikket.\",        \"utterance\": \"(: Han gaar hen til Pulten og sætter sig der\"    },    {        \"speaker\": \"Kerbenne\",        \"utterance\": \"(til Jocelme, som kommer ind Bring Frokost ind til Herren der\"    },    {        \"speaker\": \"d'Ancenis\",        \"instruction\": \"læsende\",        \"utterance\": \"Et nyt System for Skibsmaster og Seil af Antoine Kerberne. J: forbauset. Kerbenne min Onkel! Antone reiser sig) Og min Stjerne, og du Skjæbne, hvad er det nu for Puds, du har spillet mig? Du har ladet mig trykke en Slægtnings Haand, som afskyer mig, Du har ført mig ind i et Hus, som en Proces havde lukket, og et Uveir nu har aabnet for mig.\"    },    {        \"speaker\": \"Kerbenne\",        \"utterance\": \"sender Jocelme bort og nærmer sig dencenis.) Jeg har gode Ben, en Landsmands Ben. og De bliver dygtig træt, det siger jeg Dem forud. Derfor ønsker jeg at De skal komme til Kræfter før vor udflugt og jeg har beordnet en Frokost for Dem\"    },    {        \"speaker\": \"d'Ancenis\",        \"instruction\": \"forlegen\",        \"utterance\": \"Min Herre!\"    },    {        \"speaker\": \"Kerbenne\",        \"utterance\": \"En kraftig Frokost\"    },    {        \"speaker\": \"dancens\",        \"utterance\": \"Med Deres Tilladelse! Det vil være mig en Umulighed at modtage den.\"    },    {        \"speaker\": \"Kerbene\",        \"utterance\": \"Men De maa være sulten\"    },    {        \"speaker\": \"dencenis\",        \"utterance\": \"Ja det nægter jeg ikke, men hvilken Fornøielse hvilken Ære det end vilde være mig at sidde ved Deres Bord, saa bør jeg sandelig afslaa det og bede om Deres Tilladelse til at sige Dem Farvel!\"    },    {        \"speaker\": \"Kerbenne\",        \"instruction\": \"forbauset.\",        \"utterance\": \"Men De har jo modtaget.\"    },    {        \"speaker\": \"dancen.\",        \"utterance\": \"Ja, for en Stund siden; nu kan jeg ikke.\"    },    {        \"speaker\": \"Kerbenne\",        \"utterance\": \"Men hvorfor ikke\"    },    {        \"speaker\": \"d'ancenis\",        \"utterance\": \"Farvel, min Herre! vil gaa\"    },    {        \"speaker\": \"Kerbenne\",        \"instruction\": \"holder ham tilbage.\",        \"utterance\": \"Nei, De skal blive min Herre, De skal blive; jeg holder Dem tilbage enten med det Gode eller med det Onde.\"    },    {        \"speaker\": \"dancenis\",        \"utterance\": \"muntert. Nu det manglede kun Kerbenne At lade Dem gaa vilde være at forsynde sig mod alle Gjæstfrihedens Pligter.\"    },    {        \"speaker\": \"dencens\",        \"utterance\": \"Og at blive vilde være at forsynde sig endnu mere, det vilde være at misbruge Deres Godhed og Ædelmodighed, og efter det Navn, jeg har læst paa Titelbladet af denne Afhandling\"    },    {        \"speaker\": \"Kerbenne\",        \"utterance\": \"Men hvem er De da\"    },    {        \"speaker\": \"d'Ancenis\",        \"utterance\": \"Af Erkjendtlighed for Deres Artighed mod mig, vilde jeg foretrække at forlade Dem uden at sige Dem det\"    },    {        \"speaker\": \"Kerbenne\",        \"utterance\": \"med Alvor! Intet kan under nogen Omstændighed forhindre en brav Mand i at nævne sit Navn.\"    },    {        \"speaker\": \"dancenis\",        \"instruction\": \"stolt.\",        \"utterance\": \"Nu vel, jeg betænker mig ikke længere. Jeg er Deres Never, Edvard d'Ancenis\"    },    {        \"speaker\": \"Kerbenne\",        \"instruction\": \"synker tilintetgjort ned i en Lænestol tilvenstre:\",        \"utterance\": \"Min Neven\"    },    {        \"speaker\": \"dencens\",        \"utterance\": \"Jeg hedde forberedt Dem ( ælte Slag, og jeg hedde ønsket, ret De skulde unisee air ærbødigt mia Hr. Onkel, tilgiv mig mit pen ( Synligt. - forts 1e isagens. en savhart elate. ved denne heldige Vildfarelse, som hof skaffer mig en saa, hjertelig Modtagelse hos Dem, ja endogsaa et Haandstorp, som jeg rigtignok tog fra Dem, det erkjender jeg muntert, inan med Affelse Og det, der giør mig mest ondr og jeg ( Formøde(, 1 ikke kan give Dem det tilbage. Jæ ($ hvitsa . til sin Dagter, des omsigte, går Brevet; zud. er i Parte med Dort im. da han ber en Bree i Varmen. yd mig som jeg har latte fer 6cde jeg mig det dasale i nuvel Vil du gifte Dem. f( einter)    },    {        \"speaker\": \"9de ich\",        \"Accountant Leto's Edit.:\" [],        \"reder\": \"Mit poas idend 10 de Ier ferre ( Tm\" }    ]\n"
     ]
    }
   ],
   "source": [
    "import re\n",
    "import json\n",
    "\n",
    "# Initial cleanup\n",
    "cleaned_output = re.sub(r'[\\r\\n]+', '', output)  # Remove newlines\n",
    "#cleaned_output = cleaned_output.replace(\"'\", '\"')  # Convert single to double quotes\n",
    "\n",
    "# Fix \"peaker\" typo to \"speaker\"\n",
    "cleaned_output = re.sub(r'\"peaker\":', '\"speaker\":', cleaned_output)\n",
    "\n",
    "# Ensure JSON array structure by adding square brackets if missing\n",
    "if not cleaned_output.strip().startswith(\"[\"):\n",
    "    cleaned_output = \"[\" + cleaned_output\n",
    "if not cleaned_output.strip().endswith(\"]\"):\n",
    "    cleaned_output = cleaned_output + \"]\"\n",
    "\n",
    "# Ensure commas between JSON objects\n",
    "cleaned_output = re.sub(r'}\\s*{', '},{', cleaned_output)\n",
    "\n",
    "# Attempt to load the JSON data\n",
    "try:\n",
    "    json_data = json.loads(cleaned_output)\n",
    "except json.JSONDecodeError as e:\n",
    "    print(\"JSONDecodeError:\", e)\n",
    "    print(\"Cleaned output for debugging:\", cleaned_output)\n",
    "    json_data = None\n"
   ]
  }
 ],
 "metadata": {
  "kernelspec": {
   "display_name": "Python 3 (ipykernel)",
   "language": "python",
   "name": "python3"
  },
  "language_info": {
   "codemirror_mode": {
    "name": "ipython",
    "version": 3
   },
   "file_extension": ".py",
   "mimetype": "text/x-python",
   "name": "python",
   "nbconvert_exporter": "python",
   "pygments_lexer": "ipython3",
   "version": "3.11.5"
  }
 },
 "nbformat": 4,
 "nbformat_minor": 5
}
