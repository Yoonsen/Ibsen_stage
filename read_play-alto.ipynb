{
 "cells": [
  {
   "cell_type": "code",
   "execution_count": 2,
   "id": "b79aeb23-88e9-4ca6-a31b-b5559a7213b7",
   "metadata": {},
   "outputs": [],
   "source": [
    "import os\n",
    "import lxml"
   ]
  },
  {
   "cell_type": "code",
   "execution_count": 16,
   "id": "76ef7c99-dc0d-4f77-a73f-34b1911204c7",
   "metadata": {},
   "outputs": [],
   "source": [
    "from lxml import etree"
   ]
  },
  {
   "cell_type": "code",
   "execution_count": 3,
   "id": "fea0e89e-d4bc-456a-834f-643891e3f116",
   "metadata": {},
   "outputs": [],
   "source": []
  },
  {
   "cell_type": "code",
   "execution_count": null,
   "id": "f7d24c2c-7f56-435f-9e1b-7d84c4958001",
   "metadata": {},
   "outputs": [],
   "source": []
  },
  {
   "cell_type": "code",
   "execution_count": null,
   "id": "ddbff24a-13c6-4c5a-9294-94ddcdac0ae7",
   "metadata": {},
   "outputs": [],
   "source": []
  },
  {
   "cell_type": "code",
   "execution_count": 50,
   "id": "bf23c3e0-b619-4885-8c19-d5caaacf8d37",
   "metadata": {},
   "outputs": [],
   "source": [
    "folders = next(os.walk('.'))\n",
    "fs = [next(os.walk(os.path.join(folders[0], subf))) for subf in folders[1] if os.path.isdir(subf) and len(subf)==7 ]"
   ]
  },
  {
   "cell_type": "code",
   "execution_count": 51,
   "id": "a0f25ecd-ec52-4c64-8c4a-5051c6994fde",
   "metadata": {},
   "outputs": [
    {
     "data": {
      "text/plain": [
       "[('./1581443', ['c2910cf5e44d09b996c62a1f4417fb57'], []),\n",
       " ('./1594278', ['6b9108fc26177727be1ecf382c988b16'], []),\n",
       " ('./1579385', ['e8ceee63c94b380060d42d52cefb26ee'], []),\n",
       " ('./1563964', ['5f27d5b9ffdef6adf0e3a80d439f2d6c'], []),\n",
       " ('./1558161', ['92285008828e0e5cb8eb002b7f84c421'], []),\n",
       " ('./3971423', ['9faba46158e1c7f87ef07d235a12b0df'], []),\n",
       " ('./1587674', ['42480c1a3c07b4adbff5438a13afa8a1'], []),\n",
       " ('./1594283', ['136c4f5e3f4e3062f23ef71a48df293a'], []),\n",
       " ('./1594255', ['1a64cb0fe040c09a01cf7b3c6f384705'], []),\n",
       " ('./3971323', ['d7588fb66077bb4d852cf97d67795d64'], []),\n",
       " ('./1616602', ['bb2668c190059b5042445443d2a57cf8'], []),\n",
       " ('./3971765', ['b3810b756ccf27f1f8573a6d8aa80802'], []),\n",
       " ('./1579397', ['147773f94f5854344c23795caa972ca6'], []),\n",
       " ('./1564270', ['35c288d57ddab3f7876058c6dbfe1371'], []),\n",
       " ('./1587758', ['977b7d4c0f1ab3a2715c41ac1b4baf75'], []),\n",
       " ('./3971505', ['560bc7b0cb5f7e7250951efc47819896'], []),\n",
       " ('./1587693', ['dd10362778f6d60bff0a4432ebfbe5c2'], []),\n",
       " ('./1587740', ['e05f347817f109697721b73842a0687f'], []),\n",
       " ('./3971123', ['82d9b32055d391243d2fcf5c06113539'], []),\n",
       " ('./3971005', ['2ef2c419f3fec60d0497cdd94b50a80d'], []),\n",
       " ('./1581567', ['e080f8293a7fd2bb28010ea7d146ebf7'], []),\n",
       " ('./3970963', ['ae5209839d4dad2a133ced68231da59a'], []),\n",
       " ('./1580805', ['3917842393b6a04261bea6ff205666d7'], []),\n",
       " ('./1582084', ['b7c8abee95ad94b68a977df6193fa16f'], []),\n",
       " ('./3971543', ['48ae9178f86c6d314ec581f4bf667022'], []),\n",
       " ('./1587724', ['7f2d66f228bf63a62b1f5bb242575f0a'], []),\n",
       " ('./3971267', ['5a0ad2c75f4de78f92509347b19c3129'], []),\n",
       " ('./1564190', ['8c297adf5c0d2bd017f686dd12bab632'], []),\n",
       " ('./1564166', ['604744a6aec1caff095ba45cd5784765'], []),\n",
       " ('./1564003', ['b437fe879fe5a9258a2b8c752c2d0360'], []),\n",
       " ('./3970984', ['0c447b5d196dfbbc6ed88afba8f38269'], []),\n",
       " ('./1558175', ['831cbca324884d78072685979ab84c64'], []),\n",
       " ('./3970965', ['4b688eee17ee2337f9779eb98a4d1ae9'], []),\n",
       " ('./1581433', ['425c77c60f70e1b11d2b8aebfb2e88b7'], []),\n",
       " ('./1594263', ['04659e3b7911ab07385e0e1a78e53517'], []),\n",
       " ('./1581439', ['09b1d037462afcf4813a5b39318a3a4c'], []),\n",
       " ('./1581515', ['86a2fcad93af9950bc9ee34fc2aacd95'], []),\n",
       " ('./1581578', ['56877fc7a2ca1120d328a63ecc931f61'], []),\n",
       " ('./1594281', ['d6f5b0ae22f06eca31c294459ce54bc7'], []),\n",
       " ('./3971212', ['4233c31a2b94c99f7ade2e7b12dc8afe'], []),\n",
       " ('./1563988', ['9bbabab8d57311a9578e6cc9b99ddec3'], []),\n",
       " ('./1579380', ['03ed3c65b58af667d1606eb14cce5bac'], []),\n",
       " ('./1564183', ['6745b496cb2218671379a61784412796'], []),\n",
       " ('./3971483', ['a8263da8de581d6f39763d90d47ef4e8'], []),\n",
       " ('./1581843', ['b9711579c39c2940262048498c501fab'], []),\n",
       " ('./1579379', ['81027d2d4132287f2d43b8175401fa9c'], []),\n",
       " ('./1558153', ['695455c6999b3195ce73450cbc1d83a8'], []),\n",
       " ('./3971763', ['446d4f1f037b3e68bb2b4c0183e0a108'], []),\n",
       " ('./3971124', ['e8bb97eba12109db2ae68827a6ace7e2'], []),\n",
       " ('./1558169', ['c0a67df1c2cfa4d177eba6fbfe54078b'], []),\n",
       " ('./1594268', ['0897c71a506f16f457a4eddffd91ca62'], []),\n",
       " ('./1580777', ['d2c365bdc093b6302ea97f5a0d31db52'], []),\n",
       " ('./1558140', ['13afe26dffff584233fb3862e0a23ca1'], []),\n",
       " ('./1580816', ['0900ba117c3f36802b4245daf041f9d8'], []),\n",
       " ('./1594274', ['95d4adcf1fd4785a9fad987190503e56'], [])]"
      ]
     },
     "execution_count": 51,
     "metadata": {},
     "output_type": "execute_result"
    }
   ],
   "source": [
    "fs"
   ]
  },
  {
   "cell_type": "code",
   "execution_count": 59,
   "id": "f65c0c88-d492-4e20-97ca-bd4278966233",
   "metadata": {},
   "outputs": [
    {
     "name": "stdout",
     "output_type": "stream",
     "text": [
      "1581443\n"
     ]
    }
   ],
   "source": [
    "for f in fs[:1]:\n",
    "    alto = next(os.walk(os.path.join(folders[0], f[0], f[1][0], 'alto')))\n",
    "    print(os.path.basename(f[0]))"
   ]
  },
  {
   "cell_type": "code",
   "execution_count": 34,
   "id": "810a0d65-dbb3-4216-a9e2-80d86be02a0e",
   "metadata": {},
   "outputs": [],
   "source": [
    "# Parse the XML file\n",
    "def analyse(alto):\n",
    "    book_files = alto[2]\n",
    "    book_folder = alto[0]\n",
    "    \n",
    "    book_files.sort()\n",
    "    \n",
    "    namespace = {'alto': 'http://www.loc.gov/standards/alto/ns-v4#'}\n",
    "    \n",
    "    book = \"\"\n",
    "    for f in book_files:\n",
    "        tree = etree.parse(os.path.join(book_folder, f))\n",
    "        text_lines = tree.findall('.//alto:TextLine', namespaces=namespace)\n",
    "        \n",
    "        text = \"\"\n",
    "        for text_line in text_lines:\n",
    "            line = \"\"\n",
    "            for string in text_line.findall('.//alto:String', namespaces=namespace):\n",
    "                if 'SUBS_TYPE' in string.attrib:\n",
    "                    if string.attrib['SUBS_TYPE'] == \"HypPart1\":\n",
    "                        line  += string.attrib['SUBS_CONTENT'] + \" \"\n",
    "                    elif string.attrib['SUBS_TYPE'] == \"HypPart2\":\n",
    "                        pass\n",
    "                else:\n",
    "                    line += string.attrib['CONTENT'] + \" \"\n",
    "            text += line + \"\\n\"\n",
    "        book += text + \"\\n\"\n",
    "    return book\n"
   ]
  },
  {
   "cell_type": "code",
   "execution_count": 60,
   "id": "0daf48e4-721f-4f2e-805e-8194ee0f533f",
   "metadata": {},
   "outputs": [],
   "source": [
    "for f in fs:\n",
    "    alto = next(os.walk(os.path.join(folders[0], f[0], f[1][0], 'alto')))\n",
    "    txt = analyse(alto)\n",
    "    with open(f\"stage_{os.path.basename(f[0])}.xml\", \"w\") as fp:\n",
    "        fp.write(txt)"
   ]
  },
  {
   "cell_type": "code",
   "execution_count": null,
   "id": "09d0a5c3-ce7e-409a-9227-ba9ff791ba4b",
   "metadata": {},
   "outputs": [],
   "source": []
  }
 ],
 "metadata": {
  "kernelspec": {
   "display_name": "Python 3 (ipykernel)",
   "language": "python",
   "name": "python3"
  },
  "language_info": {
   "codemirror_mode": {
    "name": "ipython",
    "version": 3
   },
   "file_extension": ".py",
   "mimetype": "text/x-python",
   "name": "python",
   "nbconvert_exporter": "python",
   "pygments_lexer": "ipython3",
   "version": "3.11.5"
  }
 },
 "nbformat": 4,
 "nbformat_minor": 5
}
