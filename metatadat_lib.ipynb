{
 "cells": [
  {
   "cell_type": "code",
   "execution_count": null,
   "id": "40c5e006-27ef-492d-9ba6-1031aee7c5b2",
   "metadata": {},
   "outputs": [],
   "source": [
    "import xml.etree.ElementTree as ET\n",
    "from pathlib import Path\n",
    "import pandas as pd\n",
    "\n",
    "def extract_xml_metadata(xml_path: str) -> dict:\n",
    "    \"\"\"Extract metadata from Transkribus XML file\"\"\"\n",
    "    try:\n",
    "        tree = ET.parse(xml_path)\n",
    "        root = tree.getroot()\n",
    "        \n",
    "        metadata = {\n",
    "            'docId': root.find('docId').text if root.find('docId') is not None else None,\n",
    "            'sesamid': root.find('title').text if root.find('title') is not None else None,\n",
    "            'nrOfPages': root.find('nrOfPages').text if root.find('nrOfPages') is not None else None\n",
    "        }\n",
    "        \n",
    "        return metadata\n",
    "    except Exception as e:\n",
    "        print(f\"Error processing {xml_path}: {str(e)}\")\n",
    "        return {'docId': None, 'sesamid': None, 'nrOfPages': None}\n",
    "\n",
    "def process_all_xml_files(directory: str) -> pd.DataFrame:\n",
    "    \"\"\"Process all XML files in directory and return as DataFrame\"\"\"\n",
    "    xml_files = list(Path(directory).glob('*.xml'))\n",
    "    metadata_list = []\n",
    "    \n",
    "    for xml_file in xml_files:\n",
    "        metadata = extract_xml_metadata(str(xml_file))\n",
    "        metadata['filename'] = xml_file.stem\n",
    "        metadata_list.append(metadata)\n",
    "    \n",
    "    return pd.DataFrame(metadata_list)"
   ]
  },
  {
   "cell_type": "code",
   "execution_count": null,
   "id": "d4d79b2b-b5ab-43d4-861b-5c7fa054e56d",
   "metadata": {},
   "outputs": [],
   "source": [
    "# Example usage\n",
    "xml_dir = \"./path/to/xml/files\"  # Update with your XML directory path\n",
    "df_xml = process_all_xml_files(xml_dir)\n",
    "\n",
    "print(\"XML Metadata summary:\")\n",
    "print(df_xml.head())\n",
    "print(\"\\nTotal files processed:\", len(df_xml))"
   ]
  }
 ],
 "metadata": {
  "kernelspec": {
   "display_name": "Python 3 (ipykernel)",
   "language": "python",
   "name": "python3"
  },
  "language_info": {
   "codemirror_mode": {
    "name": "ipython",
    "version": 3
   },
   "file_extension": ".py",
   "mimetype": "text/x-python",
   "name": "python",
   "nbconvert_exporter": "python",
   "pygments_lexer": "ipython3",
   "version": "3.11.5"
  }
 },
 "nbformat": 4,
 "nbformat_minor": 5
}
